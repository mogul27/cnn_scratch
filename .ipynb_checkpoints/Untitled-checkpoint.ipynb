{
 "cells": [
  {
   "cell_type": "code",
   "execution_count": 5,
   "metadata": {},
   "outputs": [],
   "source": [
    "from tensorflow.keras.datasets import mnist\n",
    "from matplotlib import pyplot as plt\n",
    "import numpy as np"
   ]
  },
  {
   "cell_type": "code",
   "execution_count": null,
   "metadata": {},
   "outputs": [],
   "source": [
    "# Convolutional net for greyscale square images"
   ]
  },
  {
   "cell_type": "code",
   "execution_count": 65,
   "metadata": {},
   "outputs": [
    {
     "name": "stdout",
     "output_type": "stream",
     "text": [
      "Train: X=(60000, 28, 28), y=(60000,)\n",
      "Test: X=(10000, 28, 28), y=(10000,)\n"
     ]
    },
    {
     "data": {
      "image/png": "[encoded data removed]",
      "text/plain": [
       "<Figure size 432x288 with 1 Axes>"
      ]
     },
     "metadata": {
      "needs_background": "light"
     },
     "output_type": "display_data"
    }
   ],
   "source": [
    "# This bit will change in assignment depending on data coming in \n",
    "# load dataset\n",
    "(trainX, trainy), (testX, testy) = mnist.load_data()\n",
    "# summarize loaded dataset\n",
    "print('Train: X=%s, y=%s' % (trainX.shape, trainy.shape))\n",
    "print('Test: X=%s, y=%s' % (testX.shape, testy.shape))\n",
    "# plot first few images\n",
    "for i in range(1):\n",
    "\t# define subplot\n",
    "\tplt.subplot(330 + 1 + i)\n",
    "\t# plot raw pixel data\n",
    "\tplt.imshow(trainX[i], cmap=plt.get_cmap('gray'))\n",
    "# show the figure\n",
    "plt.show()"
   ]
  },
  {
   "cell_type": "code",
   "execution_count": 278,
   "metadata": {},
   "outputs": [],
   "source": [
    "def init_filters(num_filters_layer, filter_xy):\n",
    "    \n",
    "    assert filter_xy % 2 != 0, \"Filter dimensions must be an odd number\"\n",
    "    # Initialise according to standard normal distribution (Find paper)\n",
    "    # Initialising as all 0s would imeeditately set the multiplications to 0\n",
    "    layer_feature_maps = [np.random.standard_normal(size=(filter_xy, filter_xy)) for i in range(num_filters_layer)]\n",
    "    \n",
    "    return layer_feature_maps"
   ]
  },
  {
   "cell_type": "code",
   "execution_count": 279,
   "metadata": {},
   "outputs": [],
   "source": [
    "def convolve(fil, layer_input, output_size):\n",
    "    \n",
    "    # Initialise feature map to return\n",
    "    feature_map = np.zeros((output_size, output_size))\n",
    "    \n",
    "    # Trace the position of the top left value on the filter\n",
    "    fil_x = 0\n",
    "    fil_y = 0\n",
    "    \n",
    "    # Use input and filter dimensions to work out final_position of filter top left value \n",
    "    # Since both are square matrices, the value will be the same for x and y\n",
    "    max_index = layer_input.shape[0] - fil.shape[0]\n",
    "    \n",
    "    for fil_y in range(max_index+1):        \n",
    "        for fil_x in range(max_index+1):\n",
    "            \n",
    "            # Perform the convolution operation returning the feature map as an array of products between filter \n",
    "            # and initial input\n",
    "            \n",
    "            element_products = []\n",
    "            \n",
    "            # Multiply all filter values with image values elementwise at current filter position then sum\n",
    "            for x in range(fil.shape[0]):\n",
    "                for y in range(fil.shape[1]):\n",
    "                    # fil[0] gives 1 row of filter and fil[x][y] gives element y of row x\n",
    "                    # Same procdure but location of filter added for layer_input\n",
    "                    element_products.append(fil[x][y] * layer_input[fil_x + x][fil_y + y])\n",
    "            \n",
    "            \n",
    "            sum_element_wise = sum(element_products)\n",
    "            feature_map[fil_x][fil_y] = sum_element_wise\n",
    "            \n",
    "    \n",
    "    return feature_map"
   ]
  },
  {
   "cell_type": "code",
   "execution_count": 280,
   "metadata": {},
   "outputs": [],
   "source": [
    "# Follow popular architecture in https://arxiv.org/pdf/1511.08458.pdf\n",
    "# Start by following a single image through with a single filter\n",
    "\n",
    "def convolutional_layer(layer_input, layer_filters, stride):\n",
    "    \"\"\"Convolve filter over input from image or previous layer\"\"\"\n",
    "    \n",
    "    # Assuming square input\n",
    "    filter_dimensions = layer_filters[0].shape[0]\n",
    "    image_dimensions = layer_input.shape[0]\n",
    "    \n",
    "    # Calculate layers output dimensions according to formula described in \n",
    "    # https://ieeexplore.ieee.org/stamp/stamp.jsp?tp=&arnumber=8308186\n",
    "    output_size = int(1 + (image_dimensions-filter_dimensions)/stride)\n",
    "    #print(\"Expected Output Size:\", output_size)\n",
    "    \n",
    "    output_feature_maps = []\n",
    "    \n",
    "    # Use fil since filter is a type keyword in Python\n",
    "    # Gives a 3x3 matrix of zeroes\n",
    "    for fil in layer_filters:\n",
    "        output_feature_maps.append(convolve(fil, layer_input, output_size))\n",
    "        \n",
    "    return output_feature_maps"
   ]
  },
  {
   "cell_type": "code",
   "execution_count": 316,
   "metadata": {},
   "outputs": [],
   "source": [
    "def max_pooling_layer(layer_input, window_size, stride):\n",
    "    \n",
    "    # Square images only so take just one measurement for height and width\n",
    "    input_height_width = layer_input.shape[0]\n",
    "    \n",
    "    # Calculate pooling output dimensions according to formula described in \n",
    "    # https://ieeexplore.ieee.org/stamp/stamp.jsp?tp=&arnumber=8308186\n",
    "    expected_output_size = int(1 + (input_height_width - window_size) / stride)\n",
    "    \n",
    "    # Initialise matrix to hold pooled values\n",
    "    pooled = np.zeros((expected_output_size, expected_output_size))\n",
    "    \n",
    "    # Use input and window dimensions to work out position of top left value \n",
    "    # Since both are square matrices, the value will be the same for x and y\n",
    "    max_index = input_height_width - window_size\n",
    "    print(max_index)\n",
    "    \n",
    "    # Trace position of pooling window\n",
    "    \n",
    "    win_x = 0\n",
    "    win_y = 0\n",
    "    \n",
    "    # Track where in the pooled matrix the value is being stored (Must be different to win_x and win_y due to stride)\n",
    "    pool_x = 0\n",
    "    pool_y = 0\n",
    "    \n",
    "    for win_y in range(0, max_index+1, stride):\n",
    "        \n",
    "        pool_x = 0\n",
    "        \n",
    "        for win_x in range(0, max_index+1, stride):\n",
    "            # Slice from current window top left to bottom right and take max (Gives 2D)\n",
    "            in_window_elements = layer_input[win_x : win_x + window_size, win_y : win_y + window_size]\n",
    "            \n",
    "            # Return max across 2D matrix\n",
    "            pooled_value = (np.amax(in_window_elements))\n",
    "            pooled[pool_x][pool_y] = pooled_value\n",
    "            \n",
    "            pool_x += 1\n",
    "        pool_y += 1\n",
    "        \n",
    "    return pooled\n",
    "\n",
    "#     pool_x = 0\n",
    "#     pool_y = 0\n",
    "    \n",
    "#     for win_y in range(0, max_index+1, stride):\n",
    "#         # reset x to 0 to start a new row of pooling\n",
    "        \n",
    "#         for win_x in range(0, max_index+1, stride):        \n",
    "            \n",
    "#             in_window_elements = []\n",
    "            \n",
    "#             # Find values inside the sliding window and obtain maximum value\n",
    "#             for x in range(window_size):\n",
    "#                 for y in range(window_size):\n",
    "#                     in_window_elements.append(layer_input[win_x + x][win_y + y])\n",
    "                    \n",
    "#             pooled_value = max(in_window_elements)\n",
    "#             print(pooled_value)\n",
    "            \n",
    "#             pool_x += 1\n",
    "        \n",
    "#         pool_y += 1\n",
    "    \n",
    "#     return pooled"
   ]
  },
  {
   "cell_type": "code",
   "execution_count": 317,
   "metadata": {},
   "outputs": [
    {
     "name": "stdout",
     "output_type": "stream",
     "text": [
      "22\n",
      "[[    0.             0.             0.             0.\n",
      "      0.             0.             0.             0.\n",
      "     50.53456384     0.           242.89018061   205.16642132]\n",
      " [    0.             0.            -6.9448299    -45.4488825\n",
      "    -47.2799604    -55.41161615   -38.57406241    24.31430664\n",
      "    216.21453404    59.77325849   258.70897117    -2.069115  ]\n",
      " [    0.            23.56313404    28.24523557    -2.78730234\n",
      "    -23.42088892    -3.8519225     63.5280178     36.14388437\n",
      "    174.48521847    -4.17659882  -515.40961518   -42.87554587]\n",
      " [    0.            60.79855038   233.45208183  -152.44771504\n",
      "  -1155.94520075  -864.38921242 -1167.48659933  -961.5000806\n",
      "   -463.16925393  -149.93498836   -64.61494268     0.        ]\n",
      " [    0.             0.          -124.50697961  -243.64941061\n",
      "   -596.31875685  -878.45094653  -366.23293096   102.78959853\n",
      "    -70.82130616     0.             0.             0.        ]\n",
      " [    0.             0.             0.             0.\n",
      "   -198.72590058  -577.58642238  -204.48978341   166.85838362\n",
      "    155.22560189    81.41033006     0.             0.        ]\n",
      " [    0.             0.             0.             0.\n",
      "    -54.47180358  -202.17420368  -532.77950817  -384.21662192\n",
      "    175.97637931   177.63744472    32.02559443     0.        ]\n",
      " [    0.             0.             0.             0.\n",
      "      0.          -208.41014133  -393.23075303  -558.00680406\n",
      "    -90.72249618    25.19100848     8.63205166     0.        ]\n",
      " [    0.             0.             0.            -5.55586392\n",
      "   -116.15087087    95.24500239    72.36323095  -343.33886015\n",
      "   -670.37703577  -282.44334694     0.             0.        ]\n",
      " [    0.            -4.16689794   -83.91661899    43.38744549\n",
      "    137.21403176    31.65895449  -276.28346471 -1085.8350155\n",
      "   -689.37051896  -132.45726489     0.             0.        ]\n",
      " [  -15.7518759    187.42427767    83.97850205   133.39769646\n",
      "   -319.59685613  -989.52676896  -703.8806485   -198.73117994\n",
      "     -1.45557434     0.             0.             0.        ]\n",
      " [  184.18389625   108.02334658  -555.97510943 -1054.46439602\n",
      "   -821.66713644  -273.04597727    -8.00565887     0.\n",
      "      0.             0.             0.             0.        ]]\n"
     ]
    }
   ],
   "source": [
    "# No depth because using greyscale images\n",
    "layer_filters = init_feature_maps(1, 5)\n",
    "feature_maps = convolutional_layer(trainX[0], layer_filters, 1)    \n",
    "pooled_values = max_pooling_layer(feature_maps[0], 2 , 2)\n",
    "print(pooled_values)"
   ]
  },
  {
   "cell_type": "code",
   "execution_count": 271,
   "metadata": {},
   "outputs": [
    {
     "data": {
      "text/plain": [
       "array([[0., 0., 0.],\n",
       "       [0., 0., 0.],\n",
       "       [0., 0., 0.]])"
      ]
     },
     "execution_count": 271,
     "metadata": {},
     "output_type": "execute_result"
    }
   ],
   "source": [
    "np.zeros((3,3))"
   ]
  },
  {
   "cell_type": "code",
   "execution_count": 272,
   "metadata": {},
   "outputs": [],
   "source": [
    "# Mention common values taken from paper given above for 2 and 2"
   ]
  },
  {
   "cell_type": "code",
   "execution_count": null,
   "metadata": {},
   "outputs": [],
   "source": [
    "# To-add\n",
    "# Deptj\n",
    "# Zero padding (Not expected to make a huge amount of difference on MNIST because numbers centered)\n",
    "# Initialisation of zero matrix"
   ]
  }
 ],
 "metadata": {
  "kernelspec": {
   "display_name": "Python 3.7.4 64-bit ('anaconda3': virtualenv)",
   "language": "python",
   "name": "python37464bitanaconda3virtualenv55a6efa1d26343c8a8ba6f830d69db03"
  },
  "language_info": {
   "codemirror_mode": {
    "name": "ipython",
    "version": 3
   },
   "file_extension": ".py",
   "mimetype": "text/x-python",
   "name": "python",
   "nbconvert_exporter": "python",
   "pygments_lexer": "ipython3",
   "version": "3.7.4"
  }
 },
 "nbformat": 4,
 "nbformat_minor": 4
}
