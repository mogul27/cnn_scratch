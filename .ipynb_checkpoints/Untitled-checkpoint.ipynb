{
 "cells": [
  {
   "cell_type": "code",
   "execution_count": 5,
   "metadata": {},
   "outputs": [],
   "source": [
    "from tensorflow.keras.datasets import mnist\n",
    "from matplotlib import pyplot as plt\n",
    "import numpy as np"
   ]
  },
  {
   "cell_type": "code",
   "execution_count": null,
   "metadata": {},
   "outputs": [],
   "source": [
    "# Convolutional net for greyscale square images"
   ]
  },
  {
   "cell_type": "code",
   "execution_count": 65,
   "metadata": {},
   "outputs": [
    {
     "name": "stdout",
     "output_type": "stream",
     "text": [
      "Train: X=(60000, 28, 28), y=(60000,)\n",
      "Test: X=(10000, 28, 28), y=(10000,)\n"
     ]
    },
    {
     "data": {
      "image/png": "[encoded data removed]",
      "text/plain": [
       "<Figure size 432x288 with 1 Axes>"
      ]
     },
     "metadata": {
      "needs_background": "light"
     },
     "output_type": "display_data"
    }
   ],
   "source": [
    "# This bit will change in assignment depending on data coming in \n",
    "# load dataset\n",
    "(trainX, trainy), (testX, testy) = mnist.load_data()\n",
    "# summarize loaded dataset\n",
    "print('Train: X=%s, y=%s' % (trainX.shape, trainy.shape))\n",
    "print('Test: X=%s, y=%s' % (testX.shape, testy.shape))\n",
    "# plot first few images\n",
    "for i in range(1):\n",
    "\t# define subplot\n",
    "\tplt.subplot(330 + 1 + i)\n",
    "\t# plot raw pixel data\n",
    "\tplt.imshow(trainX[i], cmap=plt.get_cmap('gray'))\n",
    "# show the figure\n",
    "plt.show()"
   ]
  },
  {
   "cell_type": "code",
   "execution_count": 85,
   "metadata": {},
   "outputs": [],
   "source": [
    "def init_feature_maps(num_filters_layer, filter_xy):\n",
    "    \n",
    "    assert filter_xy % 2 != 0, \"Filter dimensions must be an odd number\"\n",
    "    # Initialise according to standard normal distribution (Find paper)\n",
    "    # Initialising as all 0s would imeeditately set the multiplications to 0\n",
    "    layer_feature_maps = [np.random.standard_normal(size=(filter_xy, filter_xy)) for i in range(num_filters_layer)]\n",
    "    \n",
    "    return layer_feature_maps"
   ]
  },
  {
   "cell_type": "code",
   "execution_count": 86,
   "metadata": {},
   "outputs": [],
   "source": [
    "def convolve(fil, layer_input):\n",
    "    \n",
    "    # Trace the position of the top left value on the filter\n",
    "    fil_x = 0\n",
    "    fil_y = 0\n",
    "    \n",
    "    # Use image anf filter dimensions to work out final_position of filter top left value \n",
    "    # Since both are square matrices, the value will be the same for x and y\n",
    "    max_index = layer_input.shape[0] - fil.shape[0] + 1 # +1 to accont for 0 indexing\n",
    "    print(max_index)\n",
    "    \n",
    "    while fil_y <= max_index:\n",
    "        # reset x to 0 to start a new row of convolution\n",
    "        fil_x = 0\n",
    "        \n",
    "        while fil_x <= max_index:\n",
    "            \n",
    "            # Perform the convolution operation returning the feature map as an array of products between filter \n",
    "            # and initial input\n",
    "            product_array = np.zeros(fil.shape[0], fil.shape[1])\n",
    "            \n",
    "            # Multiply all filter values with image values elementwise at current filter position\n",
    "            for x in fil.shape[0]:\n",
    "                for y in fil.shape[1]:\n",
    "                    # fil[0] gives 1 row of filter and fil[x][y] gives element y of row x\n",
    "                    # Same procdure but location of filter added for layer_input\n",
    "                    product_array[x][y] = fil[x][y] * layer_input[fil_x + x][fil_y + y]\n",
    "            \n",
    "            fil_x += 1\n",
    "        \n",
    "        fil_y += 1\n",
    "        \n",
    "    return product_array\n",
    "            "
   ]
  },
  {
   "cell_type": "code",
   "execution_count": 87,
   "metadata": {},
   "outputs": [],
   "source": [
    "# Follow popular architecture in https://arxiv.org/pdf/1511.08458.pdf\n",
    "# Start by following a single image through with a single filter\n",
    "\n",
    "\n",
    "\n",
    "def convolutional_layer(layer_input, layer_feature_maps, stride):\n",
    "    \"\"\"Convolve filter over input from image or previous layer\"\"\"\n",
    "    \n",
    "    # Assuming square input\n",
    "    filter_dimensions = layer_feature_maps[0].shape[0]\n",
    "    image_dimensions = layer_input.shape[0]\n",
    "    \n",
    "    # Calculate layers output dimensions according to formula described in \n",
    "    # https://ieeexplore.ieee.org/stamp/stamp.jsp?tp=&arnumber=8308186\n",
    "    output_size = 1 + (image_dimensions-filter_dimensions)/stride\n",
    "    \n",
    "    \n",
    "    output_feature_maps = []\n",
    "    \n",
    "    # Use fil since filter is a type keyword in Python\n",
    "    # Gives a 3x3 matrix of zeroes\n",
    "    for fil in layer_feature_maps:\n",
    "        output_feature_maps.append(convolve(fil, layer_input))\n",
    "        \n",
    "    "
   ]
  },
  {
   "cell_type": "code",
   "execution_count": 90,
   "metadata": {},
   "outputs": [
    {
     "name": "stdout",
     "output_type": "stream",
     "text": [
      "[array([[-0.51841035,  0.49914658, -0.06975927, -0.28804283,  1.80152882],\n",
      "       [ 0.33201144,  0.66870864,  0.13436851, -0.49325159, -0.28608298],\n",
      "       [-0.58702725, -0.01783633, -0.25682105,  2.10478478,  0.52025641],\n",
      "       [-1.61884281,  0.70920869,  1.07202814, -0.7030948 ,  1.82493444],\n",
      "       [ 0.31615226,  0.35524616,  2.16730611, -0.55252966, -0.86178718]])]\n",
      "24\n"
     ]
    }
   ],
   "source": [
    "# No depth because using greyscale images\n",
    "layer_feature_maps = init_feature_maps(1, 5)\n",
    "feature_maps = convolutional_layer(trainX[0], layer_feature_maps, 1)"
   ]
  },
  {
   "cell_type": "code",
   "execution_count": 36,
   "metadata": {},
   "outputs": [
    {
     "data": {
      "text/plain": [
       "array([[0., 0., 0.],\n",
       "       [0., 0., 0.],\n",
       "       [0., 0., 0.]])"
      ]
     },
     "execution_count": 36,
     "metadata": {},
     "output_type": "execute_result"
    }
   ],
   "source": [
    "np.zeros((3,3))"
   ]
  },
  {
   "cell_type": "code",
   "execution_count": null,
   "metadata": {},
   "outputs": [],
   "source": [
    "# To-add\n",
    "# Deptj\n",
    "# Zero padding\n",
    "# Initialisation of zero matrix"
   ]
  }
 ],
 "metadata": {
  "kernelspec": {
   "display_name": "Python 3.7.4 64-bit ('anaconda3': virtualenv)",
   "language": "python",
   "name": "python37464bitanaconda3virtualenv55a6efa1d26343c8a8ba6f830d69db03"
  },
  "language_info": {
   "codemirror_mode": {
    "name": "ipython",
    "version": 3
   },
   "file_extension": ".py",
   "mimetype": "text/x-python",
   "name": "python",
   "nbconvert_exporter": "python",
   "pygments_lexer": "ipython3",
   "version": "3.7.4"
  }
 },
 "nbformat": 4,
 "nbformat_minor": 4
}
